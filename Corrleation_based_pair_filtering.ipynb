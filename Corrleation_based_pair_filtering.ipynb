{
 "cells": [
  {
   "cell_type": "code",
   "execution_count": 15,
   "id": "05f1bde0-adb8-4e78-b782-deacd8d82046",
   "metadata": {},
   "outputs": [
    {
     "name": "stdout",
     "output_type": "stream",
     "text": [
      "Filtered and unique high-correlation pairs (no same-company classes):\n",
      "   Stock A Stock B  Correlation\n",
      "3      AVB     EQR     0.940642\n",
      "4     AMAT    LRCX     0.935408\n",
      "5      DHI     LEN     0.932494\n",
      "6      MLM     VMC     0.926545\n",
      "7      EQR     UDR     0.920406\n",
      "8     AMAT    KLAC     0.920036\n",
      "9     KLAC    LRCX     0.919107\n",
      "10     CPT     MAA     0.916288\n",
      "11     LEN     PHM     0.912155\n",
      "12     AVB     UDR     0.910825\n"
     ]
    }
   ],
   "source": [
    "import pandas as pd\n",
    "import numpy as np\n",
    "\n",
    "# === Step 1: Load Cleaned Data ===\n",
    "df = pd.read_csv(\"sp500_prices_cleaned.csv\", index_col=0, parse_dates=True)\n",
    "\n",
    "# === Step 2: Compute Log Returns ===\n",
    "log_returns = np.log(df / df.shift(1)).dropna()\n",
    "\n",
    "# === Step 3: Correlation Matrix ===\n",
    "correlation_matrix = log_returns.corr()\n",
    "\n",
    "# === Step 4: Filter Pairs by Correlation Threshold ===\n",
    "threshold = 0.85  # Adjust this as needed\n",
    "high_corr_pairs = []\n",
    "\n",
    "tickers = correlation_matrix.columns\n",
    "for i in range(len(tickers)):\n",
    "    for j in range(i + 1, len(tickers)):\n",
    "        corr_value = correlation_matrix.iloc[i, j]\n",
    "        if corr_value > threshold:\n",
    "            high_corr_pairs.append((tickers[i], tickers[j], corr_value))\n",
    "\n",
    "# === Step 5: Convert to DataFrame and Sort ===\n",
    "high_corr_df = pd.DataFrame(high_corr_pairs, columns=[\"Stock A\", \"Stock B\", \"Correlation\"])\n",
    "high_corr_df = high_corr_df.sort_values(by=\"Correlation\", ascending=False).reset_index(drop=True)\n",
    "\n",
    "# === Step 6: Filter out same-company share classes (shared prefixes) ===\n",
    "def is_share_class_pair(ticker_a, ticker_b):\n",
    "    return ticker_a[:3] == ticker_b[:3]\n",
    "\n",
    "# Apply the filter\n",
    "# Define function to detect same-company share classes\n",
    "def is_share_class_pair(ticker_a, ticker_b):\n",
    "    return ticker_a[:3] == ticker_b[:3]\n",
    "\n",
    "filtered_pairs = []\n",
    "for _, row in high_corr_df.iterrows():\n",
    "    a, b = row[\"Stock A\"], row[\"Stock B\"]\n",
    "    if not is_share_class_pair(a, b):\n",
    "        filtered_pairs.append(row)\n",
    "\n",
    "# Create filtered DataFrame\n",
    "filtered_corr_df = pd.DataFrame(filtered_pairs)\n",
    "\n",
    "# === Step 8: Show or save results ===\n",
    "print(\"Filtered and unique high-correlation pairs (no same-company classes):\")\n",
    "print(filtered_corr_df.head(10))\n",
    "\n",
    "# Optional: Save\n",
    "filtered_corr_df.to_csv(\"high_corr_pairs.csv\", index=False)"
   ]
  }
 ],
 "metadata": {
  "kernelspec": {
   "display_name": "Python 3 (ipykernel)",
   "language": "python",
   "name": "python3"
  },
  "language_info": {
   "codemirror_mode": {
    "name": "ipython",
    "version": 3
   },
   "file_extension": ".py",
   "mimetype": "text/x-python",
   "name": "python",
   "nbconvert_exporter": "python",
   "pygments_lexer": "ipython3",
   "version": "3.12.4"
  }
 },
 "nbformat": 4,
 "nbformat_minor": 5
}
